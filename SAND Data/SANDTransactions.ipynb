{
 "cells": [
  {
   "cell_type": "code",
   "execution_count": 11,
   "metadata": {},
   "outputs": [],
   "source": [
    "import requests\n",
    "from requests.api import request\n",
    "import time\n",
    "import json\n",
    "import re\n",
    "import random\n",
    "import os\n",
    "import pickle\n",
    "\n",
    "previousRequestsBackupPath = \"./previousRequests/\"\n",
    "\n",
    "def get_valid_filename(name):\n",
    "    s = str(name).strip().replace(\" \", \"_\")\n",
    "    s = re.sub(r\"(?u)[^-\\w.]\", \"\", s)\n",
    "    if s in {\"\", \".\", \"..\"}:\n",
    "        return \"ErrorFileName\" + str(random.randrange(100000))\n",
    "    return s\n",
    "\n",
    "def get_valid_path(path):\n",
    "    s = str(path).strip().replace(\" \", \"_\")\n",
    "    s = re.sub(r\"(?u)[^-\\w./]\", \"\", s)\n",
    "    if s in {\"\", \".\", \"..\"}:\n",
    "        return \"ErrorFileName\" + str(random.randrange(100000))\n",
    "    return s\n",
    "\n",
    "def dumpAPIRequest(fileName, data, path=\"./previousRequests/\"):\n",
    "    fullFileName = get_valid_path(path) + get_valid_filename(fileName) + \".bin\"\n",
    "    os.makedirs(os.path.dirname(fullFileName), exist_ok=True)\n",
    "    with open(fullFileName, \"wb\") as outputFile:\n",
    "        pickle.dump(data, outputFile)\n",
    "    return fullFileName\n",
    "\n",
    "def loadAPIRequest(fileName):\n",
    "    fullFileName = previousRequestsBackupPath + get_valid_filename(fileName) +\".bin\"\n",
    "    if not os.path.exists(fullFileName):\n",
    "        return {}\n",
    "    with open(fullFileName, \"rb\") as inputFile:\n",
    "        data = pickle.load(inputFile)\n",
    "    return data[\"result\"]\n",
    "\n",
    "def checkForAPIRequest(url):\n",
    "    return os.path.exists(previousRequestsBackupPath + get_valid_filename(url) +\".bin\")\n",
    "\n",
    "def dumpJSON(fileName, data, path=\"./\"):\n",
    "    if len(data) == 0:\n",
    "        return \"\"\n",
    "    fullFileName = get_valid_path(path) + get_valid_filename(fileName) + \".json\"\n",
    "    os.makedirs(os.path.dirname(fullFileName), exist_ok=True)\n",
    "    with open(fullFileName, \"w\") as outputFile:\n",
    "        json.dump(data, outputFile, indent = 6)\n",
    "    return fullFileName\n",
    "\n",
    "def loadJSON(fullFileName):\n",
    "    if not os.path.exists(fullFileName):\n",
    "        return {}\n",
    "    with open(fullFileName, \"r\") as inputFile:\n",
    "        data = json.load(inputFile)\n",
    "    return data\n",
    "\n",
    "def checkForJSON(fileName, path):\n",
    "    fullFileName = get_valid_path(path) + get_valid_filename(fileName) + \".json\"\n",
    "    return loadJSON(fullFileName) if os.path.exists(fullFileName) else {}\n"
   ]
  },
  {
   "cell_type": "code",
   "execution_count": 115,
   "metadata": {},
   "outputs": [],
   "source": [
    "lastRequestTime = 0\n",
    "personalAccessToken = \"116X4PZSFPNP2AHJGQK3S85REGS81HQFN2\"\n",
    "\n",
    "def apiRequest(url):\n",
    "    if checkForAPIRequest(url):\n",
    "        return loadAPIRequest(url)\n",
    "    \n",
    "    global lastRequestTime\n",
    "    while(time.time() < lastRequestTime+0.2):\n",
    "        pass\n",
    "    lastRequestTime = time.time()\n",
    "\n",
    "    response = requests.get(url + \"&apikey=\" + personalAccessToken)\n",
    "    data = response.json() if response.ok else {}\n",
    "\n",
    "    dumpAPIRequest(url, data)\n",
    "\n",
    "    return data[\"result\"]\n"
   ]
  },
  {
   "cell_type": "code",
   "execution_count": 117,
   "metadata": {},
   "outputs": [],
   "source": [
    "apiString = \"https://api.etherscan.io/api\"\n",
    "\n",
    "def getAllResults(url, backupName=None):\n",
    "    endBlock = \"99999999\"\n",
    "    startBlock = \"0\"\n",
    "    maxAmount = 10000\n",
    "    url = url + \"&endblock=\" + endBlock + \"&startblock=\"\n",
    "    singleList = apiRequest(url + str(startBlock))\n",
    "    all = singleList\n",
    "    dumpMultiplier = 1\n",
    "    while(len(singleList) >= maxAmount):\n",
    "        if(len(all) > 100000 * dumpMultiplier):\n",
    "            dumpJSON(backupName if backupName is not None else url, all, \"./tokenData/Backups/\")\n",
    "            dumpMultiplier += 1\n",
    "        lastElement = singleList[-1]\n",
    "        startBlock = lastElement[\"blockNumber\"]\n",
    "        offset = len(singleList) - next((i for i, item in enumerate(singleList) if item[\"blockNumber\"] == startBlock))\n",
    "        singleList = apiRequest(url + str(startBlock))\n",
    "        truncatedSingleList = singleList[offset:]\n",
    "        if(len(truncatedSingleList) > 0):\n",
    "            all += truncatedSingleList\n",
    "    return all\n",
    "\n",
    "moduleString = \"module=\"\n",
    "accountModuleString = moduleString + \"account\"\n",
    "actionString = \"action=\"\n",
    "tokenTxActionString = actionString + \"tokentx\"\n",
    "contractAdressString = \"contractaddress=\"\n",
    "def getTokenTransactions(address):\n",
    "    data = getAllResults(apiString + \"?\" + accountModuleString + \"&\" + tokenTxActionString + \"&\" + contractAdressString + address, \"tokens/\" + address)\n",
    "    dumpJSON(address, data, \"./tokenData/tokens/\")\n",
    "    return data\n",
    "\n",
    "tokenNftTxActionString = actionString + \"tokennfttx\"\n",
    "def getNftTransactions(address):\n",
    "    data = getAllResults(apiString + \"?\" + accountModuleString + \"&\" + tokenNftTxActionString + \"&\" + contractAdressString + address, \"nfts/\" + address)\n",
    "    dumpJSON(address, data, \"./tokenData/nfts/\")\n",
    "    return data\n",
    "\n",
    "txlistActionString = actionString + \"txlist\"\n",
    "adressString = \"address=\"\n",
    "def getAddressTransactions(address):\n",
    "    data = getAllResults(apiString + \"?\" + accountModuleString + \"&\" + txlistActionString + \"&\" + adressString + address, \"addresses/\" + address)\n",
    "    dumpJSON(address, data, \"./tokenData/addresses/\")\n",
    "    return data\n"
   ]
  },
  {
   "cell_type": "code",
   "execution_count": 110,
   "metadata": {},
   "outputs": [
    {
     "name": "stdout",
     "output_type": "stream",
     "text": [
      "https://api.etherscan.io/api?module=account&action=txlist&address=0x18dd4e0eb8699eA4FeE238dE41ECfb95e32272f8&endblock=99999999&startblock=0&apikey=116X4PZSFPNP2AHJGQK3S85REGS81HQFN2\n"
     ]
    }
   ],
   "source": [
    "addresses = [\"0x18dd4e0eb8699eA4FeE238dE41ECfb95e32272f8\", \"0xe19ae8F9B36Ca43D12741288D0e311396140DF6F\"]\n",
    "\n",
    "for address in addresses:\n",
    "    transactionData = getAddressTransactions(address)\n",
    "    for transaction in transactionData:\n",
    "        if transaction[\"methodId\"] == \"0x60806040\":\n",
    "            getTokenTransactions(transaction[\"contractAddress\"])\n",
    "            getNftTransactions(transaction[\"contractAddress\"])\n",
    "            getAddressTransactions(transaction[\"contractAddress\"])\n"
   ]
  },
  {
   "cell_type": "code",
   "execution_count": 57,
   "metadata": {},
   "outputs": [],
   "source": [
    "tokenAddresses = [\"0x3845badAde8e6dFF049820680d1F14bD3903a5d0\", \"0xa342f5D851E866E18ff98F351f2c6637f4478dB5\"]\n",
    "\n",
    "for tokenAddress in tokenAddresses:\n",
    "    getTokenTransactions(tokenAddress)\n"
   ]
  },
  {
   "cell_type": "code",
   "execution_count": 119,
   "metadata": {},
   "outputs": [
    {
     "ename": "KeyboardInterrupt",
     "evalue": "",
     "output_type": "error",
     "traceback": [
      "\u001b[1;31m---------------------------------------------------------------------------\u001b[0m",
      "\u001b[1;31mKeyboardInterrupt\u001b[0m                         Traceback (most recent call last)",
      "\u001b[1;32mc:\\Users\\fespa\\Documents\\textbook stuff\\Research\\gamefi\\SAND Data\\SANDTransactions.ipynb Cell 7\u001b[0m line \u001b[0;36m4\n\u001b[0;32m      <a href='vscode-notebook-cell:/c%3A/Users/fespa/Documents/textbook%20stuff/Research/gamefi/SAND%20Data/SANDTransactions.ipynb#X11sZmlsZQ%3D%3D?line=0'>1</a>\u001b[0m nftAddresses \u001b[39m=\u001b[39m [\u001b[39m\"\u001b[39m\u001b[39m0x5CC5B05a8A13E3fBDB0BB9FcCd98D38e50F90c38\u001b[39m\u001b[39m\"\u001b[39m]\n\u001b[0;32m      <a href='vscode-notebook-cell:/c%3A/Users/fespa/Documents/textbook%20stuff/Research/gamefi/SAND%20Data/SANDTransactions.ipynb#X11sZmlsZQ%3D%3D?line=2'>3</a>\u001b[0m \u001b[39mfor\u001b[39;00m nftAddress \u001b[39min\u001b[39;00m nftAddresses:\n\u001b[1;32m----> <a href='vscode-notebook-cell:/c%3A/Users/fespa/Documents/textbook%20stuff/Research/gamefi/SAND%20Data/SANDTransactions.ipynb#X11sZmlsZQ%3D%3D?line=3'>4</a>\u001b[0m     getNftTransactions(nftAddress)\n",
      "\u001b[1;32mc:\\Users\\fespa\\Documents\\textbook stuff\\Research\\gamefi\\SAND Data\\SANDTransactions.ipynb Cell 7\u001b[0m line \u001b[0;36m3\n\u001b[0;32m     <a href='vscode-notebook-cell:/c%3A/Users/fespa/Documents/textbook%20stuff/Research/gamefi/SAND%20Data/SANDTransactions.ipynb#X11sZmlsZQ%3D%3D?line=33'>34</a>\u001b[0m \u001b[39mdef\u001b[39;00m \u001b[39mgetNftTransactions\u001b[39m(address):\n\u001b[1;32m---> <a href='vscode-notebook-cell:/c%3A/Users/fespa/Documents/textbook%20stuff/Research/gamefi/SAND%20Data/SANDTransactions.ipynb#X11sZmlsZQ%3D%3D?line=34'>35</a>\u001b[0m     dumpJSON(address, getAllResults(apiString \u001b[39m+\u001b[39;49m \u001b[39m\"\u001b[39;49m\u001b[39m?\u001b[39;49m\u001b[39m\"\u001b[39;49m \u001b[39m+\u001b[39;49m accountModuleString \u001b[39m+\u001b[39;49m \u001b[39m\"\u001b[39;49m\u001b[39m&\u001b[39;49m\u001b[39m\"\u001b[39;49m \u001b[39m+\u001b[39;49m tokenNftTxActionString \u001b[39m+\u001b[39;49m \u001b[39m\"\u001b[39;49m\u001b[39m&\u001b[39;49m\u001b[39m\"\u001b[39;49m \u001b[39m+\u001b[39;49m contractAdressString \u001b[39m+\u001b[39;49m address, address), \u001b[39m\"\u001b[39m\u001b[39m./tokenData/nfts/\u001b[39m\u001b[39m\"\u001b[39m)\n",
      "\u001b[1;32mc:\\Users\\fespa\\Documents\\textbook stuff\\Research\\gamefi\\SAND Data\\SANDTransactions.ipynb Cell 7\u001b[0m line \u001b[0;36m1\n\u001b[0;32m     <a href='vscode-notebook-cell:/c%3A/Users/fespa/Documents/textbook%20stuff/Research/gamefi/SAND%20Data/SANDTransactions.ipynb#X11sZmlsZQ%3D%3D?line=15'>16</a>\u001b[0m startBlock \u001b[39m=\u001b[39m lastElement[\u001b[39m\"\u001b[39m\u001b[39mblockNumber\u001b[39m\u001b[39m\"\u001b[39m]\n\u001b[0;32m     <a href='vscode-notebook-cell:/c%3A/Users/fespa/Documents/textbook%20stuff/Research/gamefi/SAND%20Data/SANDTransactions.ipynb#X11sZmlsZQ%3D%3D?line=16'>17</a>\u001b[0m offset \u001b[39m=\u001b[39m \u001b[39mlen\u001b[39m(singleList) \u001b[39m-\u001b[39m \u001b[39mnext\u001b[39m((i \u001b[39mfor\u001b[39;00m i, item \u001b[39min\u001b[39;00m \u001b[39menumerate\u001b[39m(singleList) \u001b[39mif\u001b[39;00m item[\u001b[39m\"\u001b[39m\u001b[39mblockNumber\u001b[39m\u001b[39m\"\u001b[39m] \u001b[39m==\u001b[39m startBlock))\n\u001b[1;32m---> <a href='vscode-notebook-cell:/c%3A/Users/fespa/Documents/textbook%20stuff/Research/gamefi/SAND%20Data/SANDTransactions.ipynb#X11sZmlsZQ%3D%3D?line=17'>18</a>\u001b[0m singleList \u001b[39m=\u001b[39m apiRequest(url \u001b[39m+\u001b[39;49m \u001b[39mstr\u001b[39;49m(startBlock))\n\u001b[0;32m     <a href='vscode-notebook-cell:/c%3A/Users/fespa/Documents/textbook%20stuff/Research/gamefi/SAND%20Data/SANDTransactions.ipynb#X11sZmlsZQ%3D%3D?line=18'>19</a>\u001b[0m truncatedSingleList \u001b[39m=\u001b[39m singleList[offset:]\n\u001b[0;32m     <a href='vscode-notebook-cell:/c%3A/Users/fespa/Documents/textbook%20stuff/Research/gamefi/SAND%20Data/SANDTransactions.ipynb#X11sZmlsZQ%3D%3D?line=19'>20</a>\u001b[0m \u001b[39mif\u001b[39;00m(\u001b[39mlen\u001b[39m(truncatedSingleList) \u001b[39m>\u001b[39m \u001b[39m0\u001b[39m):\n",
      "\u001b[1;32mc:\\Users\\fespa\\Documents\\textbook stuff\\Research\\gamefi\\SAND Data\\SANDTransactions.ipynb Cell 7\u001b[0m line \u001b[0;36m1\n\u001b[0;32m     <a href='vscode-notebook-cell:/c%3A/Users/fespa/Documents/textbook%20stuff/Research/gamefi/SAND%20Data/SANDTransactions.ipynb#X11sZmlsZQ%3D%3D?line=9'>10</a>\u001b[0m     \u001b[39mpass\u001b[39;00m\n\u001b[0;32m     <a href='vscode-notebook-cell:/c%3A/Users/fespa/Documents/textbook%20stuff/Research/gamefi/SAND%20Data/SANDTransactions.ipynb#X11sZmlsZQ%3D%3D?line=10'>11</a>\u001b[0m lastRequestTime \u001b[39m=\u001b[39m time\u001b[39m.\u001b[39mtime()\n\u001b[1;32m---> <a href='vscode-notebook-cell:/c%3A/Users/fespa/Documents/textbook%20stuff/Research/gamefi/SAND%20Data/SANDTransactions.ipynb#X11sZmlsZQ%3D%3D?line=12'>13</a>\u001b[0m response \u001b[39m=\u001b[39m requests\u001b[39m.\u001b[39;49mget(url \u001b[39m+\u001b[39;49m \u001b[39m\"\u001b[39;49m\u001b[39m&apikey=\u001b[39;49m\u001b[39m\"\u001b[39;49m \u001b[39m+\u001b[39;49m personalAccessToken)\n\u001b[0;32m     <a href='vscode-notebook-cell:/c%3A/Users/fespa/Documents/textbook%20stuff/Research/gamefi/SAND%20Data/SANDTransactions.ipynb#X11sZmlsZQ%3D%3D?line=13'>14</a>\u001b[0m data \u001b[39m=\u001b[39m response\u001b[39m.\u001b[39mjson() \u001b[39mif\u001b[39;00m response\u001b[39m.\u001b[39mok \u001b[39melse\u001b[39;00m {}\n\u001b[0;32m     <a href='vscode-notebook-cell:/c%3A/Users/fespa/Documents/textbook%20stuff/Research/gamefi/SAND%20Data/SANDTransactions.ipynb#X11sZmlsZQ%3D%3D?line=15'>16</a>\u001b[0m dumpAPIRequest(url, data)\n",
      "File \u001b[1;32mc:\\Users\\fespa\\anaconda3\\envs\\gameFiResearch\\Lib\\site-packages\\requests\\api.py:73\u001b[0m, in \u001b[0;36mget\u001b[1;34m(url, params, **kwargs)\u001b[0m\n\u001b[0;32m     62\u001b[0m \u001b[39mdef\u001b[39;00m \u001b[39mget\u001b[39m(url, params\u001b[39m=\u001b[39m\u001b[39mNone\u001b[39;00m, \u001b[39m*\u001b[39m\u001b[39m*\u001b[39mkwargs):\n\u001b[0;32m     63\u001b[0m \u001b[39m    \u001b[39m\u001b[39mr\u001b[39m\u001b[39m\"\"\"Sends a GET request.\u001b[39;00m\n\u001b[0;32m     64\u001b[0m \n\u001b[0;32m     65\u001b[0m \u001b[39m    :param url: URL for the new :class:`Request` object.\u001b[39;00m\n\u001b[1;32m   (...)\u001b[0m\n\u001b[0;32m     70\u001b[0m \u001b[39m    :rtype: requests.Response\u001b[39;00m\n\u001b[0;32m     71\u001b[0m \u001b[39m    \"\"\"\u001b[39;00m\n\u001b[1;32m---> 73\u001b[0m     \u001b[39mreturn\u001b[39;00m request(\u001b[39m\"\u001b[39;49m\u001b[39mget\u001b[39;49m\u001b[39m\"\u001b[39;49m, url, params\u001b[39m=\u001b[39;49mparams, \u001b[39m*\u001b[39;49m\u001b[39m*\u001b[39;49mkwargs)\n",
      "File \u001b[1;32mc:\\Users\\fespa\\anaconda3\\envs\\gameFiResearch\\Lib\\site-packages\\requests\\api.py:59\u001b[0m, in \u001b[0;36mrequest\u001b[1;34m(method, url, **kwargs)\u001b[0m\n\u001b[0;32m     55\u001b[0m \u001b[39m# By using the 'with' statement we are sure the session is closed, thus we\u001b[39;00m\n\u001b[0;32m     56\u001b[0m \u001b[39m# avoid leaving sockets open which can trigger a ResourceWarning in some\u001b[39;00m\n\u001b[0;32m     57\u001b[0m \u001b[39m# cases, and look like a memory leak in others.\u001b[39;00m\n\u001b[0;32m     58\u001b[0m \u001b[39mwith\u001b[39;00m sessions\u001b[39m.\u001b[39mSession() \u001b[39mas\u001b[39;00m session:\n\u001b[1;32m---> 59\u001b[0m     \u001b[39mreturn\u001b[39;00m session\u001b[39m.\u001b[39;49mrequest(method\u001b[39m=\u001b[39;49mmethod, url\u001b[39m=\u001b[39;49murl, \u001b[39m*\u001b[39;49m\u001b[39m*\u001b[39;49mkwargs)\n",
      "File \u001b[1;32mc:\\Users\\fespa\\anaconda3\\envs\\gameFiResearch\\Lib\\site-packages\\requests\\sessions.py:589\u001b[0m, in \u001b[0;36mSession.request\u001b[1;34m(self, method, url, params, data, headers, cookies, files, auth, timeout, allow_redirects, proxies, hooks, stream, verify, cert, json)\u001b[0m\n\u001b[0;32m    584\u001b[0m send_kwargs \u001b[39m=\u001b[39m {\n\u001b[0;32m    585\u001b[0m     \u001b[39m\"\u001b[39m\u001b[39mtimeout\u001b[39m\u001b[39m\"\u001b[39m: timeout,\n\u001b[0;32m    586\u001b[0m     \u001b[39m\"\u001b[39m\u001b[39mallow_redirects\u001b[39m\u001b[39m\"\u001b[39m: allow_redirects,\n\u001b[0;32m    587\u001b[0m }\n\u001b[0;32m    588\u001b[0m send_kwargs\u001b[39m.\u001b[39mupdate(settings)\n\u001b[1;32m--> 589\u001b[0m resp \u001b[39m=\u001b[39m \u001b[39mself\u001b[39;49m\u001b[39m.\u001b[39;49msend(prep, \u001b[39m*\u001b[39;49m\u001b[39m*\u001b[39;49msend_kwargs)\n\u001b[0;32m    591\u001b[0m \u001b[39mreturn\u001b[39;00m resp\n",
      "File \u001b[1;32mc:\\Users\\fespa\\anaconda3\\envs\\gameFiResearch\\Lib\\site-packages\\requests\\sessions.py:703\u001b[0m, in \u001b[0;36mSession.send\u001b[1;34m(self, request, **kwargs)\u001b[0m\n\u001b[0;32m    700\u001b[0m start \u001b[39m=\u001b[39m preferred_clock()\n\u001b[0;32m    702\u001b[0m \u001b[39m# Send the request\u001b[39;00m\n\u001b[1;32m--> 703\u001b[0m r \u001b[39m=\u001b[39m adapter\u001b[39m.\u001b[39;49msend(request, \u001b[39m*\u001b[39;49m\u001b[39m*\u001b[39;49mkwargs)\n\u001b[0;32m    705\u001b[0m \u001b[39m# Total elapsed time of the request (approximately)\u001b[39;00m\n\u001b[0;32m    706\u001b[0m elapsed \u001b[39m=\u001b[39m preferred_clock() \u001b[39m-\u001b[39m start\n",
      "File \u001b[1;32mc:\\Users\\fespa\\anaconda3\\envs\\gameFiResearch\\Lib\\site-packages\\requests\\adapters.py:486\u001b[0m, in \u001b[0;36mHTTPAdapter.send\u001b[1;34m(self, request, stream, timeout, verify, cert, proxies)\u001b[0m\n\u001b[0;32m    483\u001b[0m     timeout \u001b[39m=\u001b[39m TimeoutSauce(connect\u001b[39m=\u001b[39mtimeout, read\u001b[39m=\u001b[39mtimeout)\n\u001b[0;32m    485\u001b[0m \u001b[39mtry\u001b[39;00m:\n\u001b[1;32m--> 486\u001b[0m     resp \u001b[39m=\u001b[39m conn\u001b[39m.\u001b[39;49murlopen(\n\u001b[0;32m    487\u001b[0m         method\u001b[39m=\u001b[39;49mrequest\u001b[39m.\u001b[39;49mmethod,\n\u001b[0;32m    488\u001b[0m         url\u001b[39m=\u001b[39;49murl,\n\u001b[0;32m    489\u001b[0m         body\u001b[39m=\u001b[39;49mrequest\u001b[39m.\u001b[39;49mbody,\n\u001b[0;32m    490\u001b[0m         headers\u001b[39m=\u001b[39;49mrequest\u001b[39m.\u001b[39;49mheaders,\n\u001b[0;32m    491\u001b[0m         redirect\u001b[39m=\u001b[39;49m\u001b[39mFalse\u001b[39;49;00m,\n\u001b[0;32m    492\u001b[0m         assert_same_host\u001b[39m=\u001b[39;49m\u001b[39mFalse\u001b[39;49;00m,\n\u001b[0;32m    493\u001b[0m         preload_content\u001b[39m=\u001b[39;49m\u001b[39mFalse\u001b[39;49;00m,\n\u001b[0;32m    494\u001b[0m         decode_content\u001b[39m=\u001b[39;49m\u001b[39mFalse\u001b[39;49;00m,\n\u001b[0;32m    495\u001b[0m         retries\u001b[39m=\u001b[39;49m\u001b[39mself\u001b[39;49m\u001b[39m.\u001b[39;49mmax_retries,\n\u001b[0;32m    496\u001b[0m         timeout\u001b[39m=\u001b[39;49mtimeout,\n\u001b[0;32m    497\u001b[0m         chunked\u001b[39m=\u001b[39;49mchunked,\n\u001b[0;32m    498\u001b[0m     )\n\u001b[0;32m    500\u001b[0m \u001b[39mexcept\u001b[39;00m (ProtocolError, \u001b[39mOSError\u001b[39;00m) \u001b[39mas\u001b[39;00m err:\n\u001b[0;32m    501\u001b[0m     \u001b[39mraise\u001b[39;00m \u001b[39mConnectionError\u001b[39;00m(err, request\u001b[39m=\u001b[39mrequest)\n",
      "File \u001b[1;32mc:\\Users\\fespa\\anaconda3\\envs\\gameFiResearch\\Lib\\site-packages\\urllib3\\connectionpool.py:790\u001b[0m, in \u001b[0;36mHTTPConnectionPool.urlopen\u001b[1;34m(self, method, url, body, headers, retries, redirect, assert_same_host, timeout, pool_timeout, release_conn, chunked, body_pos, preload_content, decode_content, **response_kw)\u001b[0m\n\u001b[0;32m    787\u001b[0m response_conn \u001b[39m=\u001b[39m conn \u001b[39mif\u001b[39;00m \u001b[39mnot\u001b[39;00m release_conn \u001b[39melse\u001b[39;00m \u001b[39mNone\u001b[39;00m\n\u001b[0;32m    789\u001b[0m \u001b[39m# Make the request on the HTTPConnection object\u001b[39;00m\n\u001b[1;32m--> 790\u001b[0m response \u001b[39m=\u001b[39m \u001b[39mself\u001b[39;49m\u001b[39m.\u001b[39;49m_make_request(\n\u001b[0;32m    791\u001b[0m     conn,\n\u001b[0;32m    792\u001b[0m     method,\n\u001b[0;32m    793\u001b[0m     url,\n\u001b[0;32m    794\u001b[0m     timeout\u001b[39m=\u001b[39;49mtimeout_obj,\n\u001b[0;32m    795\u001b[0m     body\u001b[39m=\u001b[39;49mbody,\n\u001b[0;32m    796\u001b[0m     headers\u001b[39m=\u001b[39;49mheaders,\n\u001b[0;32m    797\u001b[0m     chunked\u001b[39m=\u001b[39;49mchunked,\n\u001b[0;32m    798\u001b[0m     retries\u001b[39m=\u001b[39;49mretries,\n\u001b[0;32m    799\u001b[0m     response_conn\u001b[39m=\u001b[39;49mresponse_conn,\n\u001b[0;32m    800\u001b[0m     preload_content\u001b[39m=\u001b[39;49mpreload_content,\n\u001b[0;32m    801\u001b[0m     decode_content\u001b[39m=\u001b[39;49mdecode_content,\n\u001b[0;32m    802\u001b[0m     \u001b[39m*\u001b[39;49m\u001b[39m*\u001b[39;49mresponse_kw,\n\u001b[0;32m    803\u001b[0m )\n\u001b[0;32m    805\u001b[0m \u001b[39m# Everything went great!\u001b[39;00m\n\u001b[0;32m    806\u001b[0m clean_exit \u001b[39m=\u001b[39m \u001b[39mTrue\u001b[39;00m\n",
      "File \u001b[1;32mc:\\Users\\fespa\\anaconda3\\envs\\gameFiResearch\\Lib\\site-packages\\urllib3\\connectionpool.py:467\u001b[0m, in \u001b[0;36mHTTPConnectionPool._make_request\u001b[1;34m(self, conn, method, url, body, headers, retries, timeout, chunked, response_conn, preload_content, decode_content, enforce_content_length)\u001b[0m\n\u001b[0;32m    464\u001b[0m \u001b[39mtry\u001b[39;00m:\n\u001b[0;32m    465\u001b[0m     \u001b[39m# Trigger any extra validation we need to do.\u001b[39;00m\n\u001b[0;32m    466\u001b[0m     \u001b[39mtry\u001b[39;00m:\n\u001b[1;32m--> 467\u001b[0m         \u001b[39mself\u001b[39;49m\u001b[39m.\u001b[39;49m_validate_conn(conn)\n\u001b[0;32m    468\u001b[0m     \u001b[39mexcept\u001b[39;00m (SocketTimeout, BaseSSLError) \u001b[39mas\u001b[39;00m e:\n\u001b[0;32m    469\u001b[0m         \u001b[39mself\u001b[39m\u001b[39m.\u001b[39m_raise_timeout(err\u001b[39m=\u001b[39me, url\u001b[39m=\u001b[39murl, timeout_value\u001b[39m=\u001b[39mconn\u001b[39m.\u001b[39mtimeout)\n",
      "File \u001b[1;32mc:\\Users\\fespa\\anaconda3\\envs\\gameFiResearch\\Lib\\site-packages\\urllib3\\connectionpool.py:1092\u001b[0m, in \u001b[0;36mHTTPSConnectionPool._validate_conn\u001b[1;34m(self, conn)\u001b[0m\n\u001b[0;32m   1090\u001b[0m \u001b[39m# Force connect early to allow us to validate the connection.\u001b[39;00m\n\u001b[0;32m   1091\u001b[0m \u001b[39mif\u001b[39;00m conn\u001b[39m.\u001b[39mis_closed:\n\u001b[1;32m-> 1092\u001b[0m     conn\u001b[39m.\u001b[39;49mconnect()\n\u001b[0;32m   1094\u001b[0m \u001b[39mif\u001b[39;00m \u001b[39mnot\u001b[39;00m conn\u001b[39m.\u001b[39mis_verified:\n\u001b[0;32m   1095\u001b[0m     warnings\u001b[39m.\u001b[39mwarn(\n\u001b[0;32m   1096\u001b[0m         (\n\u001b[0;32m   1097\u001b[0m             \u001b[39mf\u001b[39m\u001b[39m\"\u001b[39m\u001b[39mUnverified HTTPS request is being made to host \u001b[39m\u001b[39m'\u001b[39m\u001b[39m{\u001b[39;00mconn\u001b[39m.\u001b[39mhost\u001b[39m}\u001b[39;00m\u001b[39m'\u001b[39m\u001b[39m. \u001b[39m\u001b[39m\"\u001b[39m\n\u001b[1;32m   (...)\u001b[0m\n\u001b[0;32m   1102\u001b[0m         InsecureRequestWarning,\n\u001b[0;32m   1103\u001b[0m     )\n",
      "File \u001b[1;32mc:\\Users\\fespa\\anaconda3\\envs\\gameFiResearch\\Lib\\site-packages\\urllib3\\connection.py:642\u001b[0m, in \u001b[0;36mHTTPSConnection.connect\u001b[1;34m(self)\u001b[0m\n\u001b[0;32m    633\u001b[0m \u001b[39mif\u001b[39;00m is_time_off:\n\u001b[0;32m    634\u001b[0m     warnings\u001b[39m.\u001b[39mwarn(\n\u001b[0;32m    635\u001b[0m         (\n\u001b[0;32m    636\u001b[0m             \u001b[39mf\u001b[39m\u001b[39m\"\u001b[39m\u001b[39mSystem time is way off (before \u001b[39m\u001b[39m{\u001b[39;00mRECENT_DATE\u001b[39m}\u001b[39;00m\u001b[39m). This will probably \u001b[39m\u001b[39m\"\u001b[39m\n\u001b[1;32m   (...)\u001b[0m\n\u001b[0;32m    639\u001b[0m         SystemTimeWarning,\n\u001b[0;32m    640\u001b[0m     )\n\u001b[1;32m--> 642\u001b[0m sock_and_verified \u001b[39m=\u001b[39m _ssl_wrap_socket_and_match_hostname(\n\u001b[0;32m    643\u001b[0m     sock\u001b[39m=\u001b[39;49msock,\n\u001b[0;32m    644\u001b[0m     cert_reqs\u001b[39m=\u001b[39;49m\u001b[39mself\u001b[39;49m\u001b[39m.\u001b[39;49mcert_reqs,\n\u001b[0;32m    645\u001b[0m     ssl_version\u001b[39m=\u001b[39;49m\u001b[39mself\u001b[39;49m\u001b[39m.\u001b[39;49mssl_version,\n\u001b[0;32m    646\u001b[0m     ssl_minimum_version\u001b[39m=\u001b[39;49m\u001b[39mself\u001b[39;49m\u001b[39m.\u001b[39;49mssl_minimum_version,\n\u001b[0;32m    647\u001b[0m     ssl_maximum_version\u001b[39m=\u001b[39;49m\u001b[39mself\u001b[39;49m\u001b[39m.\u001b[39;49mssl_maximum_version,\n\u001b[0;32m    648\u001b[0m     ca_certs\u001b[39m=\u001b[39;49m\u001b[39mself\u001b[39;49m\u001b[39m.\u001b[39;49mca_certs,\n\u001b[0;32m    649\u001b[0m     ca_cert_dir\u001b[39m=\u001b[39;49m\u001b[39mself\u001b[39;49m\u001b[39m.\u001b[39;49mca_cert_dir,\n\u001b[0;32m    650\u001b[0m     ca_cert_data\u001b[39m=\u001b[39;49m\u001b[39mself\u001b[39;49m\u001b[39m.\u001b[39;49mca_cert_data,\n\u001b[0;32m    651\u001b[0m     cert_file\u001b[39m=\u001b[39;49m\u001b[39mself\u001b[39;49m\u001b[39m.\u001b[39;49mcert_file,\n\u001b[0;32m    652\u001b[0m     key_file\u001b[39m=\u001b[39;49m\u001b[39mself\u001b[39;49m\u001b[39m.\u001b[39;49mkey_file,\n\u001b[0;32m    653\u001b[0m     key_password\u001b[39m=\u001b[39;49m\u001b[39mself\u001b[39;49m\u001b[39m.\u001b[39;49mkey_password,\n\u001b[0;32m    654\u001b[0m     server_hostname\u001b[39m=\u001b[39;49mserver_hostname,\n\u001b[0;32m    655\u001b[0m     ssl_context\u001b[39m=\u001b[39;49m\u001b[39mself\u001b[39;49m\u001b[39m.\u001b[39;49mssl_context,\n\u001b[0;32m    656\u001b[0m     tls_in_tls\u001b[39m=\u001b[39;49mtls_in_tls,\n\u001b[0;32m    657\u001b[0m     assert_hostname\u001b[39m=\u001b[39;49m\u001b[39mself\u001b[39;49m\u001b[39m.\u001b[39;49massert_hostname,\n\u001b[0;32m    658\u001b[0m     assert_fingerprint\u001b[39m=\u001b[39;49m\u001b[39mself\u001b[39;49m\u001b[39m.\u001b[39;49massert_fingerprint,\n\u001b[0;32m    659\u001b[0m )\n\u001b[0;32m    660\u001b[0m \u001b[39mself\u001b[39m\u001b[39m.\u001b[39msock \u001b[39m=\u001b[39m sock_and_verified\u001b[39m.\u001b[39msocket\n\u001b[0;32m    661\u001b[0m \u001b[39mself\u001b[39m\u001b[39m.\u001b[39mis_verified \u001b[39m=\u001b[39m sock_and_verified\u001b[39m.\u001b[39mis_verified\n",
      "File \u001b[1;32mc:\\Users\\fespa\\anaconda3\\envs\\gameFiResearch\\Lib\\site-packages\\urllib3\\connection.py:783\u001b[0m, in \u001b[0;36m_ssl_wrap_socket_and_match_hostname\u001b[1;34m(sock, cert_reqs, ssl_version, ssl_minimum_version, ssl_maximum_version, cert_file, key_file, key_password, ca_certs, ca_cert_dir, ca_cert_data, assert_hostname, assert_fingerprint, server_hostname, ssl_context, tls_in_tls)\u001b[0m\n\u001b[0;32m    780\u001b[0m     \u001b[39mif\u001b[39;00m is_ipaddress(normalized):\n\u001b[0;32m    781\u001b[0m         server_hostname \u001b[39m=\u001b[39m normalized\n\u001b[1;32m--> 783\u001b[0m ssl_sock \u001b[39m=\u001b[39m ssl_wrap_socket(\n\u001b[0;32m    784\u001b[0m     sock\u001b[39m=\u001b[39;49msock,\n\u001b[0;32m    785\u001b[0m     keyfile\u001b[39m=\u001b[39;49mkey_file,\n\u001b[0;32m    786\u001b[0m     certfile\u001b[39m=\u001b[39;49mcert_file,\n\u001b[0;32m    787\u001b[0m     key_password\u001b[39m=\u001b[39;49mkey_password,\n\u001b[0;32m    788\u001b[0m     ca_certs\u001b[39m=\u001b[39;49mca_certs,\n\u001b[0;32m    789\u001b[0m     ca_cert_dir\u001b[39m=\u001b[39;49mca_cert_dir,\n\u001b[0;32m    790\u001b[0m     ca_cert_data\u001b[39m=\u001b[39;49mca_cert_data,\n\u001b[0;32m    791\u001b[0m     server_hostname\u001b[39m=\u001b[39;49mserver_hostname,\n\u001b[0;32m    792\u001b[0m     ssl_context\u001b[39m=\u001b[39;49mcontext,\n\u001b[0;32m    793\u001b[0m     tls_in_tls\u001b[39m=\u001b[39;49mtls_in_tls,\n\u001b[0;32m    794\u001b[0m )\n\u001b[0;32m    796\u001b[0m \u001b[39mtry\u001b[39;00m:\n\u001b[0;32m    797\u001b[0m     \u001b[39mif\u001b[39;00m assert_fingerprint:\n",
      "File \u001b[1;32mc:\\Users\\fespa\\anaconda3\\envs\\gameFiResearch\\Lib\\site-packages\\urllib3\\util\\ssl_.py:444\u001b[0m, in \u001b[0;36mssl_wrap_socket\u001b[1;34m(sock, keyfile, certfile, cert_reqs, ca_certs, server_hostname, ssl_version, ciphers, ssl_context, ca_cert_dir, key_password, ca_cert_data, tls_in_tls)\u001b[0m\n\u001b[0;32m    442\u001b[0m \u001b[39mif\u001b[39;00m ca_certs \u001b[39mor\u001b[39;00m ca_cert_dir \u001b[39mor\u001b[39;00m ca_cert_data:\n\u001b[0;32m    443\u001b[0m     \u001b[39mtry\u001b[39;00m:\n\u001b[1;32m--> 444\u001b[0m         context\u001b[39m.\u001b[39;49mload_verify_locations(ca_certs, ca_cert_dir, ca_cert_data)\n\u001b[0;32m    445\u001b[0m     \u001b[39mexcept\u001b[39;00m \u001b[39mOSError\u001b[39;00m \u001b[39mas\u001b[39;00m e:\n\u001b[0;32m    446\u001b[0m         \u001b[39mraise\u001b[39;00m SSLError(e) \u001b[39mfrom\u001b[39;00m \u001b[39me\u001b[39;00m\n",
      "\u001b[1;31mKeyboardInterrupt\u001b[0m: "
     ]
    }
   ],
   "source": [
    "nftAddresses = [\"0x5CC5B05a8A13E3fBDB0BB9FcCd98D38e50F90c38\"]\n",
    "\n",
    "for nftAddress in nftAddresses:\n",
    "    getNftTransactions(nftAddress)\n"
   ]
  },
  {
   "cell_type": "code",
   "execution_count": 114,
   "metadata": {},
   "outputs": [
    {
     "data": {
      "text/plain": [
       "259"
      ]
     },
     "execution_count": 114,
     "metadata": {},
     "output_type": "execute_result"
    }
   ],
   "source": [
    "addressData = loadJSON(\"./tokenData/0x18dd4e0eb8699eA4FeE238dE41ECfb95e32272f8.json\")\n",
    "len(addressData)\n"
   ]
  },
  {
   "cell_type": "code",
   "execution_count": null,
   "metadata": {},
   "outputs": [],
   "source": []
  }
 ],
 "metadata": {
  "kernelspec": {
   "display_name": "gameFiResearch",
   "language": "python",
   "name": "python3"
  },
  "language_info": {
   "codemirror_mode": {
    "name": "ipython",
    "version": 3
   },
   "file_extension": ".py",
   "mimetype": "text/x-python",
   "name": "python",
   "nbconvert_exporter": "python",
   "pygments_lexer": "ipython3",
   "version": "3.12.0"
  }
 },
 "nbformat": 4,
 "nbformat_minor": 2
}
